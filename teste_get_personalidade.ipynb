{
 "cells": [
  {
   "cell_type": "code",
   "execution_count": 1,
   "metadata": {},
   "outputs": [],
   "source": [
    "from API_orcrim.api_client import ApiClient\n",
    "\n",
    "requisicao = ApiClient()\n",
    "\n",
    "resposta = requisicao.get_personalidade('03648ff0-55f0-4c45-a83d-a7180180b415')"
   ]
  },
  {
   "cell_type": "code",
   "execution_count": 3,
   "metadata": {},
   "outputs": [
    {
     "data": {
      "text/plain": [
       "{'dadosPessoais': {'nome': 'AAAAAAAAAAAAAAA7',\n",
       "  'alcunhas': [{'id': 44787, 'alcunha': 'PLAYBOY'}],\n",
       "  'dataNascimento': '19/11/1986',\n",
       "  'nomeMae': 'POLENGE JE PILVE LUCCEP PEFEIFE',\n",
       "  'nomePai': '',\n",
       "  'sexo': {'id': 7, 'nome': 'Masculino'},\n",
       "  'obito': 'N',\n",
       "  'nacionalidade': {'id': 76, 'nome': 'Brasil'},\n",
       "  'uf': {},\n",
       "  'municipio': {},\n",
       "  'dadosPessoaisOrcrim': [{'id': 35702,\n",
       "    'idOrcrim': 26,\n",
       "    'nomeOrcrim': 'MILICIA ',\n",
       "    'siglaOrcrim': 'ML',\n",
       "    'dataInicio': None,\n",
       "    'dataTermino': None,\n",
       "    'dataInicioFormatoString': None,\n",
       "    'dataTerminoFormatoString': None}],\n",
       "  'documentos': [{'id': 61153,\n",
       "    'numero': '68145300070',\n",
       "    'tipoDocumento': {'id': 9, 'descricao': 'CPF'}},\n",
       "   {'id': 61154,\n",
       "    'uf': {'id': 22, 'nome': 'RIO DE JANEIRO', 'sigla': 'RJ'},\n",
       "    'numero': '123456795',\n",
       "    'tipoDocumento': {'id': 14, 'descricao': 'RG'}}],\n",
       "  'fotosDeRosto': [{'id': 13367}],\n",
       "  'uuid': '03648ff0-55f0-4c45-a83d-a7180180b415'},\n",
       " 'dadosOrganizacao': [{'id': 34527,\n",
       "   'funcao': {'id': 1089,\n",
       "    'nome': 'MEMBRO',\n",
       "    'tipoFuncao': {'id': 220, 'nome': 'OUTROS (ESPECIFIQUE EM OBSERVAÇÃO)'},\n",
       "    'orcrim': {'id': 26, 'nome': 'MILICIA ', 'sigla': 'ML'}}}],\n",
       " 'dadosEndereco': [{'id': 38982,\n",
       "   'tipoEndereco': {'id': 9, 'nome': 'RESIDENCIAL'},\n",
       "   'logradouro': 'RUA 7',\n",
       "   'numero': '7',\n",
       "   'complemento': 'PROX AO CASA 08',\n",
       "   'bairro': 'CENTRO 7',\n",
       "   'uf': {'id': 2, 'nome': 'AMAZONAS', 'sigla': 'AM'},\n",
       "   'municipio': {'id': 1302603, 'nome': 'MANAUS'}}],\n",
       " 'dadosTelefone': [],\n",
       " 'dadosVidasPregressas': [],\n",
       " 'dadosInformacoesPrisionais': []}"
      ]
     },
     "execution_count": 3,
     "metadata": {},
     "output_type": "execute_result"
    }
   ],
   "source": [
    "resposta.json()"
   ]
  }
 ],
 "metadata": {
  "kernelspec": {
   "display_name": ".venv",
   "language": "python",
   "name": "python3"
  },
  "language_info": {
   "codemirror_mode": {
    "name": "ipython",
    "version": 3
   },
   "file_extension": ".py",
   "mimetype": "text/x-python",
   "name": "python",
   "nbconvert_exporter": "python",
   "pygments_lexer": "ipython3",
   "version": "3.10.11"
  }
 },
 "nbformat": 4,
 "nbformat_minor": 2
}
