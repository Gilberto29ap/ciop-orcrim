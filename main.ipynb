{
 "cells": [
  {
   "cell_type": "code",
   "execution_count": 4,
   "metadata": {},
   "outputs": [],
   "source": [
    "from API_orcrim.token import TokenManager\n",
    "\n",
    "# Usando a classe TokenManager com as configurações importadas\n",
    "token_manager = TokenManager()"
   ]
  },
  {
   "cell_type": "code",
   "execution_count": 5,
   "metadata": {},
   "outputs": [
    {
     "data": {
      "text/plain": [
       "{'access_token': 'eyJhbGciOiJSUzI1NiIsInR5cCIgOiAiSldUIiwia2lkIiA6ICI5bUxPTnd5b09yU3BTOUY3WFFfRGxjcHI1UTd0dUpPMTJ1OUF4M2syampBIn0.eyJleHAiOjE3MDg2OTgwNjMsImlhdCI6MTcwODY5Nzc2MywianRpIjoiOTU1MGM1YjAtNzIwOC00NGIyLTk5YTUtZGE0MjIzNDYzMTMzIiwiaXNzIjoiaHR0cHM6Ly9obWxzZWd1cmFuY2FvcmNyaW0ubWouZ292LmJyL2F1dGgvcmVhbG1zL2htbG9yY3JpbSIsImF1ZCI6WyJvcmNyaW0tYmFja2VuZCIsImFjY291bnQiXSwic3ViIjoiOWEzMmIzNWMtZGRmNy00OWM3LThiYzYtODU5MWI2ZWRjM2YwIiwidHlwIjoiQmVhcmVyIiwiYXpwIjoiU1NQQVAiLCJzZXNzaW9uX3N0YXRlIjoiZDBkYzc4MTQtYTZlNi00OWM4LThlOGMtMTk3YmZmOWNiOTczIiwiYWNyIjoiMSIsImFsbG93ZWQtb3JpZ2lucyI6WyJodHRwczovL2VkaXRvci5zd2FnZ2VyLmlvIiwiaHR0cHM6Ly9zd2FnZ2VyLWVkaXRvci5tai5nb3YuYnIiXSwicmVhbG1fYWNjZXNzIjp7InJvbGVzIjpbIm9mZmxpbmVfYWNjZXNzIiwidW1hX2F1dGhvcml6YXRpb24iXX0sInJlc291cmNlX2FjY2VzcyI6eyJhY2NvdW50Ijp7InJvbGVzIjpbIm1hbmFnZS1hY2NvdW50IiwibWFuYWdlLWFjY291bnQtbGlua3MiLCJ2aWV3LXByb2ZpbGUiXX19LCJzY29wZSI6Im9wZW5pZCBlbWFpbCBwcm9maWxlIG9yY3JpbS1iYWNrZW5kIiwiY2xpZW50SWQiOiJTU1BBUCIsImVtYWlsX3ZlcmlmaWVkIjpmYWxzZSwiY2xpZW50SG9zdCI6IjE4Ni4yMTYuMTc4LjMzIiwicHJlZmVycmVkX3VzZXJuYW1lIjoic2VydmljZS1hY2NvdW50LXNzcGFwIiwiY2xpZW50QWRkcmVzcyI6IjE4Ni4yMTYuMTc4LjMzIn0.BR09cTqfMtC7G1HXY40AzuSvxV2c5ci2AWDygVGXYu7iweXGEbFdV-zQbkesp-KTC1C7qL5gC7Sc150QrTHLIMBRGDs1TOUrOtIp7fcAbtBZcA3YIIOjgPgomV3707A9C0ZnupFLAZHwxvMnogmZcGG-5ACvXLkTBiMUWw7V7-x0E_KrUkReEn7wdMbpVfftHPslfsZ6hByUsfJjEBp-zjquczaVm96V4CNAdhH1Cd1bjzuD9iRgvXDCG8m67aj2giSLCAS_ukBpl0yiGLaAn0KFfNZOSf2hzYI5qN-xnRLTRWuToLo9IPloBvrVUw2Qpnpw4QtNU-SglJ_jenwjlA',\n",
       " 'expires_at': 1708698033.349061}"
      ]
     },
     "execution_count": 5,
     "metadata": {},
     "output_type": "execute_result"
    }
   ],
   "source": [
    "token_manager.get_access_token()\n",
    "token_manager.token_data"
   ]
  }
 ],
 "metadata": {
  "kernelspec": {
   "display_name": "venv",
   "language": "python",
   "name": "python3"
  },
  "language_info": {
   "codemirror_mode": {
    "name": "ipython",
    "version": 3
   },
   "file_extension": ".py",
   "mimetype": "text/x-python",
   "name": "python",
   "nbconvert_exporter": "python",
   "pygments_lexer": "ipython3",
   "version": "3.10.11"
  }
 },
 "nbformat": 4,
 "nbformat_minor": 2
}
