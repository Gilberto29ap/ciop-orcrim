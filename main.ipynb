{
 "cells": [
  {
   "cell_type": "code",
   "execution_count": 1,
   "metadata": {},
   "outputs": [],
   "source": [
    "from API_orcrim.token import TokenManager\n",
    "\n",
    "# Usando a classe TokenManager com as configurações importadas\n",
    "token_manager = TokenManager()"
   ]
  },
  {
   "cell_type": "code",
   "execution_count": 2,
   "metadata": {},
   "outputs": [
    {
     "data": {
      "text/plain": [
       "{'access_token': 'eyJhbGciOiJSUzI1NiIsInR5cCIgOiAiSldUIiwia2lkIiA6ICI5bUxPTnd5b09yU3BTOUY3WFFfRGxjcHI1UTd0dUpPMTJ1OUF4M2syampBIn0.eyJleHAiOjE3MDY5NjgxNDksImlhdCI6MTcwNjk2Nzg0OSwianRpIjoiZjhiOTZlNTMtNGIwZC00YTI1LWE3ZTUtYTFmYmMzYTEyYjliIiwiaXNzIjoiaHR0cHM6Ly9obWxzZWd1cmFuY2FvcmNyaW0ubWouZ292LmJyL2F1dGgvcmVhbG1zL2htbG9yY3JpbSIsImF1ZCI6WyJvcmNyaW0tYmFja2VuZCIsImFjY291bnQiXSwic3ViIjoiY2NjYmZjMWUtODhlYi00YjEyLThlYzAtZjE3Mjc3Y2IyNmQ0IiwidHlwIjoiQmVhcmVyIiwiYXpwIjoiU1NQQVAiLCJzZXNzaW9uX3N0YXRlIjoiMzlhYmRmODQtOWIyYi00MDI3LTkxMzAtMzE1MjViYjhmNmJjIiwiYWNyIjoiMSIsImFsbG93ZWQtb3JpZ2lucyI6WyJodHRwczovL2VkaXRvci5zd2FnZ2VyLmlvIiwiaHR0cHM6Ly9zd2FnZ2VyLWVkaXRvci5tai5nb3YuYnIiXSwicmVhbG1fYWNjZXNzIjp7InJvbGVzIjpbIm9mZmxpbmVfYWNjZXNzIiwidW1hX2F1dGhvcml6YXRpb24iXX0sInJlc291cmNlX2FjY2VzcyI6eyJhY2NvdW50Ijp7InJvbGVzIjpbIm1hbmFnZS1hY2NvdW50IiwibWFuYWdlLWFjY291bnQtbGlua3MiLCJ2aWV3LXByb2ZpbGUiXX19LCJzY29wZSI6Im9wZW5pZCBlbWFpbCBwcm9maWxlIG9yY3JpbS1iYWNrZW5kIiwiZW1haWxfdmVyaWZpZWQiOmZhbHNlLCJjbGllbnRIb3N0IjoiMTg2LjIxNi4xODcuMTk4IiwiY2xpZW50SWQiOiJTU1BBUCIsInByZWZlcnJlZF91c2VybmFtZSI6InNlcnZpY2UtYWNjb3VudC1zc3BhcCIsImNsaWVudEFkZHJlc3MiOiIxODYuMjE2LjE4Ny4xOTgifQ.VvFSkLwDa9Nh2h7X_aN3xcWFYznS3jI2ODucHYbofI7rDBEiy-oO82SCsTgbFZ2EBQmeTFlDacBfDP1BlryR-KAxdmAXh-uyrLr-RbbmrZEONxhyktpC3rQkSiOdxHhMe3kXSe1hlewV4VXq1mYqHMsYMfPWPsoNwCCjqO-vY3B4gZlbSzq3SnH8iXZ5uFWMq_GTPAxsjSk8OIPC4kqiJZC8i0ylBViMtw8MiaYbkK8j9JPgqZ1syhvP2mEvqCN9QDtk4rSEKAbqQJ6rDlrlXf3J6o7UGUMqM_IuSEbQXgF3_3z0kXLSye6nGFg1-MPHU91gK1wVyli_JzUZCW6TJw',\n",
       " 'expires_at': 1706968119.55735}"
      ]
     },
     "execution_count": 2,
     "metadata": {},
     "output_type": "execute_result"
    }
   ],
   "source": [
    "token_manager.get_access_token()\n",
    "token_manager.token_data"
   ]
  }
 ],
 "metadata": {
  "kernelspec": {
   "display_name": "venv",
   "language": "python",
   "name": "python3"
  },
  "language_info": {
   "codemirror_mode": {
    "name": "ipython",
    "version": 3
   },
   "file_extension": ".py",
   "mimetype": "text/x-python",
   "name": "python",
   "nbconvert_exporter": "python",
   "pygments_lexer": "ipython3",
   "version": "3.10.11"
  }
 },
 "nbformat": 4,
 "nbformat_minor": 2
}
