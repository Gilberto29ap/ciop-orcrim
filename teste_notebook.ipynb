{
 "cells": [
  {
   "cell_type": "code",
   "execution_count": 1,
   "metadata": {},
   "outputs": [],
   "source": [
    "from API_orcrim.person import Pessoa"
   ]
  },
  {
   "cell_type": "code",
   "execution_count": 2,
   "metadata": {},
   "outputs": [],
   "source": [
    "person1 = Pessoa(\n",
    "    nome=\"meninocx da silva sdfsdasdaf\",\n",
    "    orcrim= [\n",
    "          {\n",
    "            \"id\": 230,\n",
    "            \"nome\": \"BONDE DO TERROR\",\n",
    "            \"sigla\": \"BDT\"\n",
    "          }\n",
    "        ]\n",
    ")"
   ]
  },
  {
   "cell_type": "code",
   "execution_count": 3,
   "metadata": {},
   "outputs": [],
   "source": [
    "response = person1.post_personalidade()"
   ]
  },
  {
   "cell_type": "code",
   "execution_count": 4,
   "metadata": {},
   "outputs": [
    {
     "data": {
      "text/plain": [
       "{'data': [{'nome': 'meninocx da silva sdfsdasdaf',\n",
       "   'dataNascimento': '',\n",
       "   'nomeMae': '',\n",
       "   'nomePai': '',\n",
       "   'obito': '',\n",
       "   'municipio': {},\n",
       "   'uf': {},\n",
       "   'sexo': {},\n",
       "   'nacionalidade': {},\n",
       "   'alcunhas': [],\n",
       "   'cpfs': [],\n",
       "   'rgs': [],\n",
       "   'orcrims': [{'id': 230, 'nome': 'BONDE DO TERROR', 'sigla': 'BDT'}]}]}"
      ]
     },
     "execution_count": 4,
     "metadata": {},
     "output_type": "execute_result"
    }
   ],
   "source": [
    "person1.to_dict()"
   ]
  },
  {
   "cell_type": "code",
   "execution_count": 5,
   "metadata": {},
   "outputs": [
    {
     "data": {
      "text/plain": [
       "\"<html><head><title>Request Rejected</title></head><body>The requested URL was rejected. Please consult with your administrator.<br><br>Your support ID is: 6094494828002775131<br><br><a href='javascript:history.back();'>[Go Back]</a></body></html>\""
      ]
     },
     "execution_count": 5,
     "metadata": {},
     "output_type": "execute_result"
    }
   ],
   "source": [
    "response.text"
   ]
  },
  {
   "cell_type": "code",
   "execution_count": 6,
   "metadata": {},
   "outputs": [],
   "source": [
    "corpo1 = {'data': [{'nome': 'meninocpikx dvvsdfa silvaeffd saxcvxcvdasdsdfsdfadfsdfsdfsdf',\n",
    "   'orcrims': [{'id': 230, 'nome': 'BONDE DO TERROR', 'sigla': 'BDT'}]}]}"
   ]
  },
  {
   "cell_type": "code",
   "execution_count": 72,
   "metadata": {},
   "outputs": [],
   "source": [
    "corpo1 = {'data': [{'nome': 'meninocx da sytcvbdiasdasasdaslva fsdfssdfdfsdajjjsdaf',\n",
    "   'dataNascimento': None,\n",
    "   'nomeMae': None,\n",
    "   'nomePai': None,\n",
    "   'obito': None,\n",
    "   'municipio': None,\n",
    "   'uf': None,\n",
    "   'sexo': None,\n",
    "   'nacionalidade': None,\n",
    "   'alcunhas': None,\n",
    "   'cpfs': None,\n",
    "   'rgs': None,\n",
    "   'orcrims': [{'id': 230, 'nome': 'BONDE DO TERROR', 'sigla': 'BDT'}]}]}"
   ]
  },
  {
   "cell_type": "code",
   "execution_count": 73,
   "metadata": {},
   "outputs": [
    {
     "data": {
      "text/plain": [
       "'{\"data\":[{\"nome\":\"MENINOCX DA SYTCVBDIASDASASDASLVA FSDFSSDFDFSDAJJJSDAF\",\"alcunhas\":[],\"dataNascimento\":\"\",\"nomeMae\":\"\",\"nomePai\":\"\",\"obito\":\"N\",\"uf\":{},\"municipio\":{},\"dadosPessoaisOrcrim\":[{\"id\":35691,\"idOrcrim\":230,\"nomeOrcrim\":\"BONDE DO TERROR\",\"siglaOrcrim\":\"BDT\",\"dataInicio\":null,\"dataTermino\":null,\"dataInicioFormatoString\":null,\"dataTerminoFormatoString\":null}],\"documentos\":[],\"uuid\":\"0aeb9e89-aca1-402c-9eb7-a536715fd4e5\"}]}'"
      ]
     },
     "execution_count": 73,
     "metadata": {},
     "output_type": "execute_result"
    }
   ],
   "source": [
    "from API_orcrim.api_client import ApiClient\n",
    "\n",
    "api = ApiClient()\n",
    "# resposta = person1.post_personalidade()\n",
    "resposta = api.post_personalidade(corpo1)\n",
    "resposta.text"
   ]
  },
  {
   "cell_type": "code",
   "execution_count": 34,
   "metadata": {},
   "outputs": [
    {
     "data": {
      "text/plain": [
       "'{\"data\":[{\"nome\":\"MENINOCX DA SILVA SSDFDFSDASDAF\",\"alcunhas\":[],\"dataNascimento\":\"\",\"nomeMae\":\"\",\"nomePai\":\"\",\"obito\":\"N\",\"uf\":{},\"municipio\":{},\"dadosPessoaisOrcrim\":[{\"id\":35684,\"idOrcrim\":230,\"nomeOrcrim\":\"BONDE DO TERROR\",\"siglaOrcrim\":\"BDT\",\"dataInicio\":null,\"dataTermino\":null,\"dataInicioFormatoString\":null,\"dataTerminoFormatoString\":null}],\"documentos\":[],\"uuid\":\"bf350c40-906a-4cbd-bcb6-4d8807ca7547\"}]}'"
      ]
     },
     "execution_count": 34,
     "metadata": {},
     "output_type": "execute_result"
    }
   ],
   "source": [
    "resposta.text"
   ]
  }
 ],
 "metadata": {
  "kernelspec": {
   "display_name": "Python 3",
   "language": "python",
   "name": "python3"
  },
  "language_info": {
   "codemirror_mode": {
    "name": "ipython",
    "version": 3
   },
   "file_extension": ".py",
   "mimetype": "text/x-python",
   "name": "python",
   "nbconvert_exporter": "python",
   "pygments_lexer": "ipython3",
   "version": "3.10.11"
  }
 },
 "nbformat": 4,
 "nbformat_minor": 2
}
