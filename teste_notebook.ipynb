{
 "cells": [
  {
   "cell_type": "code",
   "execution_count": 1,
   "metadata": {},
   "outputs": [],
   "source": [
    "from API_orcrim.person import Pessoa"
   ]
  },
  {
   "cell_type": "code",
   "execution_count": 2,
   "metadata": {},
   "outputs": [],
   "source": [
    "person1 = Pessoa(\n",
    "    nome=\"meninocx da silva sdfsdf\",\n",
    "    alcunhas= [{\"alcunha\": \"minxxdinho\", \"dataAlcunha\": \"12/12/2023\"}],\n",
    "    cpfs=[\"51113517875\"],\n",
    "    dataNascimento=\"24/03/1965\",\n",
    "    nomeMae=\"Dino da silva cxsilva\",\n",
    "    # nomePai=\"Dina da Silva silva\",\n",
    "    rgs=[\n",
    "          {\n",
    "            \"rg\": \"5144651\",\n",
    "            \"ufRg\": \n",
    "              {\n",
    "              \"id\": 3,\n",
    "              \"nome\": \"AMAPÁ\",\n",
    "              \"sigla\": \"AP\"\n",
    "              }\n",
    "          }\n",
    "        ],\n",
    "    obito=\"N\",\n",
    "    municipio_id=530010801,\n",
    "    municipio_nome=\"Brasilia\",\n",
    "    uf_id=27,\n",
    "    uf_nome=\"DISTRITO FEDERAL\",\n",
    "    uf_sigla=\"DF\",\n",
    "    sexo_id=7,\n",
    "    sexo_nome= \"Masculino\",\n",
    "    orcrim= [\n",
    "          {\n",
    "            \"id\": 230,\n",
    "            \"nome\": \"BONDE DO TERROR\",\n",
    "            \"sigla\": \"BDT\"\n",
    "          }\n",
    "        ],\n",
    "    nacionalidade_id= 76,\n",
    "    nacionalidade_nome= \"Brasil\"\n",
    ")"
   ]
  },
  {
   "cell_type": "code",
   "execution_count": 3,
   "metadata": {},
   "outputs": [
    {
     "data": {
      "text/plain": [
       "'51113517875'"
      ]
     },
     "execution_count": 3,
     "metadata": {},
     "output_type": "execute_result"
    }
   ],
   "source": [
    "person1.cpfs[0].cpf"
   ]
  },
  {
   "cell_type": "code",
   "execution_count": 4,
   "metadata": {},
   "outputs": [],
   "source": [
    "# person1.nome = \"Josezinho\"\n",
    "# person1.nomeMae = \"Mariazinha\"\n",
    "# person1.dataNascimento = \"25/01/1990\"\n",
    "# person1.cpfs[0].cpf = \"16020533409\"\n",
    "# person1.nomeMae = \"Mariazinha do amapá\""
   ]
  },
  {
   "cell_type": "code",
   "execution_count": 5,
   "metadata": {},
   "outputs": [],
   "source": [
    "# type(person1.to_json())\n",
    "\n"
   ]
  },
  {
   "cell_type": "code",
   "execution_count": 6,
   "metadata": {},
   "outputs": [],
   "source": [
    "corpo1 = {\n",
    "  \"data\": [\n",
    "    {\n",
    "      \"nome\": \"meninocx da silva sdfsdf\",\n",
    "      \"dataNascimento\": \"24/03/1965\",\n",
    "      \"nomeMae\": \"Dino da silva cxsilva\",\n",
    "      \"nomePai\": \"Desconhecido\",\n",
    "      \"obito\": \"N\",\n",
    "      \"municipio\": {\n",
    "        \"id\": 530010801,\n",
    "        \"nome\": \"Brasilia\"\n",
    "      },\n",
    "      \"uf\": {\n",
    "        \"id\": 3,\n",
    "        \"nome\": \"AMAPA\",\n",
    "        \"sigla\": \"AP\"\n",
    "      },\n",
    "      \"sexo\": {\n",
    "        \"id\": 7,\n",
    "        \"nome\": \"Masculino\"\n",
    "      },\n",
    "      \"nacionalidade\": {\n",
    "        \"id\": 76,\n",
    "        \"nome\": \"Brasil\"\n",
    "      },\n",
    "      \"alcunhas\": [\n",
    "        {\n",
    "          \"alcunha\": \"minxxdinho\",\n",
    "          \"dataAlcunha\": \"12/12/2023\"\n",
    "        }\n",
    "      ],\n",
    "      \"cpfs\": [\n",
    "        {\n",
    "          \"cpf\": \"51113517875\"\n",
    "        }\n",
    "      ],\n",
    "      \"rgs\": [\n",
    "        {\n",
    "          \"rg\": \"5144651\",\n",
    "          \"ufRg\": {\n",
    "            \"id\": 3,\n",
    "            \"nome\": \"AMAPÁ\",\n",
    "            \"sigla\": \"AP\"\n",
    "          }\n",
    "        }\n",
    "      ],\n",
    "      \"orcrims\": [\n",
    "        {\n",
    "          \"id\": 230,\n",
    "          \"nome\": \"BONDE DO TERROR\",\n",
    "          \"sigla\": \"BDT\"\n",
    "        }\n",
    "      ]\n",
    "    }\n",
    "  ]\n",
    "}\n"
   ]
  },
  {
   "cell_type": "code",
   "execution_count": 23,
   "metadata": {},
   "outputs": [
    {
     "name": "stdout",
     "output_type": "stream",
     "text": [
      "{'data': [{'nome': 'meninocx da silva sdfsdf', 'dataNascimento': '24/03/1965', 'nomeMae': 'Dino da silva cxsilva', 'nomePai': 'Desconhecido', 'obito': 'N', 'municipio': {'id': 530010801, 'nome': 'Brasilia'}, 'uf': {'id': 27, 'nome': 'DISTRITO FEDERAL', 'sigla': 'DF'}, 'sexo': {'id': 7, 'nome': 'Masculino'}, 'nacionalidade': {'id': 76, 'nome': 'Brasil'}, 'alcunhas': [{'alcunha': 'minxxdinho', 'dataAlcunha': '12/12/2023'}], 'cpfs': ['51113517875'], 'rgs': [{'rg': '5144651', 'ufRg': {'id': 3, 'nome': 'AMAPÁ', 'sigla': 'AP'}}], 'orcrims': [{'id': 230, 'nome': 'BONDE DO TERROR', 'sigla': 'BDT'}]}]}\n"
     ]
    }
   ],
   "source": [
    "from API_orcrim.api_client import ApiClient\n",
    "\n",
    "api = ApiClient()\n",
    "resposta = person1.post_personalidade()\n",
    "# resposta = api.post_personalidade(person1.to_json())"
   ]
  },
  {
   "cell_type": "code",
   "execution_count": 24,
   "metadata": {},
   "outputs": [
    {
     "name": "stdout",
     "output_type": "stream",
     "text": [
      "b'{\"data\": [{\"nome\": \"meninocx da silva sdfsdf\", \"dataNascimento\": \"24/03/1965\", \"nomeMae\": \"Dino da silva cxsilva\", \"nomePai\": \"Desconhecido\", \"obito\": \"N\", \"municipio\": {\"id\": 530010801, \"nome\": \"Brasilia\"}, \"uf\": {\"id\": 27, \"nome\": \"DISTRITO FEDERAL\", \"sigla\": \"DF\"}, \"sexo\": {\"id\": 7, \"nome\": \"Masculino\"}, \"nacionalidade\": {\"id\": 76, \"nome\": \"Brasil\"}, \"alcunhas\": [{\"alcunha\": \"minxxdinho\", \"dataAlcunha\": \"12/12/2023\"}], \"cpfs\": [\"51113517875\"], \"rgs\": [{\"rg\": \"5144651\", \"ufRg\": {\"id\": 3, \"nome\": \"AMAP\\\\u00c1\", \"sigla\": \"AP\"}}], \"orcrims\": [{\"id\": 230, \"nome\": \"BONDE DO TERROR\", \"sigla\": \"BDT\"}]}]}'\n"
     ]
    }
   ],
   "source": [
    "print(resposta.request.body)"
   ]
  },
  {
   "cell_type": "code",
   "execution_count": 25,
   "metadata": {},
   "outputs": [
    {
     "data": {
      "text/plain": [
       "{'data': [{'nome': 'meninocx da silva sdfsdf',\n",
       "   'dataNascimento': '24/03/1965',\n",
       "   'nomeMae': 'Dino da silva cxsilva',\n",
       "   'nomePai': 'Desconhecido',\n",
       "   'obito': 'N',\n",
       "   'municipio': {'id': 530010801, 'nome': 'Brasilia'},\n",
       "   'uf': {'id': 27, 'nome': 'DISTRITO FEDERAL', 'sigla': 'DF'},\n",
       "   'sexo': {'id': 7, 'nome': 'Masculino'},\n",
       "   'nacionalidade': {'id': 76, 'nome': 'Brasil'},\n",
       "   'alcunhas': [{'alcunha': 'minxxdinho', 'dataAlcunha': '12/12/2023'}],\n",
       "   'cpfs': ['51113517875'],\n",
       "   'rgs': [{'rg': '5144651',\n",
       "     'ufRg': {'id': 3, 'nome': 'AMAPÁ', 'sigla': 'AP'}}],\n",
       "   'orcrims': [{'id': 230, 'nome': 'BONDE DO TERROR', 'sigla': 'BDT'}]}]}"
      ]
     },
     "execution_count": 25,
     "metadata": {},
     "output_type": "execute_result"
    }
   ],
   "source": [
    "person1.to_dict()"
   ]
  },
  {
   "cell_type": "code",
   "execution_count": 27,
   "metadata": {},
   "outputs": [
    {
     "ename": "TypeError",
     "evalue": "'Response' object is not subscriptable",
     "output_type": "error",
     "traceback": [
      "\u001b[1;31m---------------------------------------------------------------------------\u001b[0m",
      "\u001b[1;31mTypeError\u001b[0m                                 Traceback (most recent call last)",
      "Cell \u001b[1;32mIn[27], line 1\u001b[0m\n\u001b[1;32m----> 1\u001b[0m \u001b[43mresposta\u001b[49m\u001b[43m[\u001b[49m\u001b[38;5;124;43m\"\u001b[39;49m\u001b[38;5;124;43mdata\u001b[39;49m\u001b[38;5;124;43m\"\u001b[39;49m\u001b[43m]\u001b[49m[\u001b[38;5;241m0\u001b[39m][\u001b[38;5;124m'\u001b[39m\u001b[38;5;124muuid\u001b[39m\u001b[38;5;124m'\u001b[39m]\n",
      "\u001b[1;31mTypeError\u001b[0m: 'Response' object is not subscriptable"
     ]
    }
   ],
   "source": [
    "resposta[\"data\"][0]['uuid']"
   ]
  }
 ],
 "metadata": {
  "kernelspec": {
   "display_name": "Python 3",
   "language": "python",
   "name": "python3"
  },
  "language_info": {
   "codemirror_mode": {
    "name": "ipython",
    "version": 3
   },
   "file_extension": ".py",
   "mimetype": "text/x-python",
   "name": "python",
   "nbconvert_exporter": "python",
   "pygments_lexer": "ipython3",
   "version": "3.10.11"
  }
 },
 "nbformat": 4,
 "nbformat_minor": 2
}
