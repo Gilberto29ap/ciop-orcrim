{
 "cells": [
  {
   "cell_type": "code",
   "execution_count": 1,
   "metadata": {},
   "outputs": [],
   "source": [
    "from API_orcrim.person import Pessoa"
   ]
  },
  {
   "cell_type": "code",
   "execution_count": 2,
   "metadata": {},
   "outputs": [],
   "source": [
    "person1 = Pessoa(\n",
    "    nome=\"meninocx da silva sdfsdf\",\n",
    "    alcunhas= [{\"alcunha\": \"minxxdinho\", \"dataAlcunha\": \"12/12/2023\"}],\n",
    "    cpfs=[\"51113517875\"],\n",
    "    dataNascimento=\"24/03/1965\",\n",
    "    nomeMae=\"Dino da silva cxsilva\",\n",
    "    # nomePai=\"Dina da Silva silva\",\n",
    "    rgs=[\n",
    "          {\n",
    "            \"rg\": \"5144651\",\n",
    "            \"ufRg\": \n",
    "              {\n",
    "              \"id\": 3,\n",
    "              \"nome\": \"AMAPÁ\",\n",
    "              \"sigla\": \"AP\"\n",
    "              }\n",
    "          }\n",
    "        ],\n",
    "    obito=\"N\",\n",
    "    municipio_id=530010801,\n",
    "    municipio_nome=\"Brasilia\",\n",
    "    uf_id=27,\n",
    "    uf_nome=\"DISTRITO FEDERAL\",\n",
    "    uf_sigla=\"DF\",\n",
    "    sexo_id=7,\n",
    "    sexo_nome= \"Masculino\",\n",
    "    orcrim= [\n",
    "          {\n",
    "            \"id\": 230,\n",
    "            \"nome\": \"BONDE DO TERROR\",\n",
    "            \"sigla\": \"BDT\"\n",
    "          }\n",
    "        ],\n",
    "    nacionalidade_id= 76,\n",
    "    nacionalidade_nome= \"Brasil\"\n",
    ")"
   ]
  },
  {
   "cell_type": "code",
   "execution_count": 3,
   "metadata": {},
   "outputs": [
    {
     "data": {
      "text/plain": [
       "'51113517875'"
      ]
     },
     "execution_count": 3,
     "metadata": {},
     "output_type": "execute_result"
    }
   ],
   "source": [
    "person1.cpfs[0].cpf"
   ]
  },
  {
   "cell_type": "code",
   "execution_count": 4,
   "metadata": {},
   "outputs": [],
   "source": [
    "# person1.nome = \"Josezinho\"\n",
    "# person1.nomeMae = \"Mariazinha\"\n",
    "# person1.dataNascimento = \"25/01/1990\"\n",
    "# person1.cpfs[0].cpf = \"16020533409\"\n",
    "# person1.nomeMae = \"Mariazinha do amapá\""
   ]
  },
  {
   "cell_type": "code",
   "execution_count": 5,
   "metadata": {},
   "outputs": [],
   "source": [
    "# type(person1.to_json())\n",
    "\n"
   ]
  },
  {
   "cell_type": "code",
   "execution_count": 66,
   "metadata": {},
   "outputs": [],
   "source": [
    "corpo1 = {'data': [{'nome': 'meninocx dvvsdfa silvaeffd saxcvxcvdasdadfsdfsdfsdf',\n",
    "   'orcrims': [{'id': 230, 'nome': 'BONDE DO TERROR', 'sigla': 'BDT'}]}]}"
   ]
  },
  {
   "cell_type": "code",
   "execution_count": 68,
   "metadata": {},
   "outputs": [],
   "source": [
    "from API_orcrim.api_client import ApiClient\n",
    "\n",
    "api = ApiClient()\n",
    "# resposta = person1.post_personalidade()\n",
    "resposta = api.post_personalidade(corpo1)"
   ]
  },
  {
   "cell_type": "code",
   "execution_count": 53,
   "metadata": {},
   "outputs": [
    {
     "name": "stdout",
     "output_type": "stream",
     "text": [
      "b'{\"data\": [{\"nome\": \"meninocx dsdfa silva sadasdadfsdfsdfsdf\", \"cpfs\": [\"34682448439\"], \"orcrims\": [{\"id\": 230, \"nome\": \"BONDE DO TERROR\", \"sigla\": \"BDT\"}]}]}'\n"
     ]
    }
   ],
   "source": [
    "print(resposta.request.body)"
   ]
  },
  {
   "cell_type": "code",
   "execution_count": 36,
   "metadata": {},
   "outputs": [
    {
     "data": {
      "text/plain": [
       "{'data': [{'nome': 'meninocx da silva sdfsdf',\n",
       "   'dataNascimento': '24/03/1965',\n",
       "   'nomeMae': 'Dino da silva cxsilva',\n",
       "   'nomePai': 'Desconhecido',\n",
       "   'obito': 'N',\n",
       "   'municipio': {'id': 530010801, 'nome': 'Brasilia'},\n",
       "   'uf': {'id': 27, 'nome': 'DISTRITO FEDERAL', 'sigla': 'DF'},\n",
       "   'sexo': {'id': 7, 'nome': 'Masculino'},\n",
       "   'nacionalidade': {'id': 76, 'nome': 'Brasil'},\n",
       "   'alcunhas': [{'alcunha': 'minxxdinho', 'dataAlcunha': '12/12/2023'}],\n",
       "   'cpfs': ['51113517875'],\n",
       "   'rgs': [{'rg': '5144651',\n",
       "     'ufRg': {'id': 3, 'nome': 'AMAPÁ', 'sigla': 'AP'}}],\n",
       "   'orcrims': [{'id': 230, 'nome': 'BONDE DO TERROR', 'sigla': 'BDT'}]}]}"
      ]
     },
     "execution_count": 36,
     "metadata": {},
     "output_type": "execute_result"
    }
   ],
   "source": [
    "person1.to_dict()"
   ]
  },
  {
   "cell_type": "code",
   "execution_count": 70,
   "metadata": {},
   "outputs": [
    {
     "data": {
      "text/plain": [
       "{'data': [{'nome': 'MENINOCX DVVSDFA SILVAEFFD SAXCVXCVDASDADFSDFSDFSDF',\n",
       "   'alcunhas': [],\n",
       "   'dataNascimento': '',\n",
       "   'nomeMae': '',\n",
       "   'nomePai': '',\n",
       "   'obito': 'N',\n",
       "   'uf': {},\n",
       "   'municipio': {},\n",
       "   'dadosPessoaisOrcrim': [{'id': 35666,\n",
       "     'idOrcrim': 230,\n",
       "     'nomeOrcrim': 'BONDE DO TERROR',\n",
       "     'siglaOrcrim': 'BDT',\n",
       "     'dataInicio': None,\n",
       "     'dataTermino': None,\n",
       "     'dataInicioFormatoString': None,\n",
       "     'dataTerminoFormatoString': None}],\n",
       "   'documentos': [],\n",
       "   'uuid': '25617275-ff70-4a1f-bbec-e8a514f3a105'}]}"
      ]
     },
     "execution_count": 70,
     "metadata": {},
     "output_type": "execute_result"
    }
   ],
   "source": [
    "resposta"
   ]
  }
 ],
 "metadata": {
  "kernelspec": {
   "display_name": "Python 3",
   "language": "python",
   "name": "python3"
  },
  "language_info": {
   "codemirror_mode": {
    "name": "ipython",
    "version": 3
   },
   "file_extension": ".py",
   "mimetype": "text/x-python",
   "name": "python",
   "nbconvert_exporter": "python",
   "pygments_lexer": "ipython3",
   "version": "3.10.11"
  }
 },
 "nbformat": 4,
 "nbformat_minor": 2
}
