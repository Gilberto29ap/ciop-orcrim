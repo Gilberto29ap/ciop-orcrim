{
 "cells": [
  {
   "cell_type": "code",
   "execution_count": 155,
   "metadata": {},
   "outputs": [],
   "source": [
    "from API_orcrim.token import TokenManager\n",
    "import requests"
   ]
  },
  {
   "cell_type": "code",
   "execution_count": 156,
   "metadata": {},
   "outputs": [],
   "source": [
    "meu_token = TokenManager()\n",
    "\n",
    "def post_pessoa(corpo):\n",
    "\n",
    "    url = 'https://hmlorcrim.mj.gov.br/backend-orcrim/api/v1/personalidade'\n",
    "    token_de_autorizacao = meu_token.get_access_token()\n",
    "    dados_json = corpo\n",
    "\n",
    "    # Preparação dos headers\n",
    "    headers = {\n",
    "        'accept': 'application/json',\n",
    "        'Authorization': f'Bearer {token_de_autorizacao}',\n",
    "        'Content-Type': 'application/json'\n",
    "    }\n",
    "\n",
    "    # Fazendo a chamada POST com requests\n",
    "    response = requests.post(url, headers=headers, json=dados_json)\n",
    "\n",
    "    print(response)\n",
    "    print(response.text)\n",
    "\n",
    "    return response"
   ]
  },
  {
   "cell_type": "code",
   "execution_count": 4,
   "metadata": {},
   "outputs": [],
   "source": [
    "corpo_json = {\n",
    "  \"data\": [\n",
    "    {\n",
    "      \"nome\": \"menino da sil1195165va sdfsdf\",\n",
    "      \"alcunhas\": [\n",
    "        {\n",
    "          \"alcunha\": \"minsdfinsdfho\",\n",
    "          \"dataAlcunha\": \"01/06/2024\"\n",
    "        }\n",
    "      ],\n",
    "      \"cpfs\": [\n",
    "        \"91668347598\"\n",
    "      ],\n",
    "      \"dataNascimento\": \"24/05/1965\",\n",
    "      \"nomeMae\": \"Dino da sildsa silva\",\n",
    "      \"nomePai\": \"Dina da Silvasd silva\",\n",
    "      \"rgs\": [\n",
    "        {\n",
    "          \"rg\": \"232222\",\n",
    "          \"ufRg\": {\n",
    "            \"id\": 3,\n",
    "            \"nome\": \"AMAPA\",\n",
    "            \"sigla\": \"AP\"\n",
    "          }\n",
    "        }\n",
    "      ],\n",
    "      \"sexo\": {\n",
    "        \"id\": 7,\n",
    "        \"nome\": \"Masculino\"\n",
    "      },\n",
    "      \"obito\": \"N\",\n",
    "      \"orcrims\": [\n",
    "        {\n",
    "          \"id\": 230,\n",
    "          \"nome\": \"BONDE DO TERROR\",\n",
    "          \"sigla\": \"BDT\"\n",
    "        }\n",
    "      ],\n",
    "      \"nacionalidade\": {\n",
    "        \"id\": 76,\n",
    "        \"nome\": \"Brasil\"\n",
    "      },\n",
    "      \"uf\": {\n",
    "        \"id\": 27,\n",
    "        \"nome\": \"DISTRITO FEDERAL\",\n",
    "        \"sigla\": \"DF\"\n",
    "      },\n",
    "      \"municipio\": {\n",
    "        \"id\": 530010801,\n",
    "        \"nome\": \"Brasilia\"\n",
    "      }\n",
    "    }\n",
    "  ]\n",
    "}"
   ]
  },
  {
   "cell_type": "code",
   "execution_count": 158,
   "metadata": {},
   "outputs": [],
   "source": [
    "\n",
    "corpo_json1 = {\n",
    "\"data\" : [\n",
    "    \n",
    "{\n",
    "\"nome\": \"Joouuuo Oliveira Silva\",\n",
    "\"alcunhas\": [\n",
    "{\n",
    "\"alcunha\": \"Josfdsino\",\n",
    "\"dataAlcunha\": \"10/02/2020\"\n",
    "}\n",
    "],\n",
    "\"cpfs\": [\n",
    "\"61978176678\"\n",
    "],\n",
    "\"dataNascimento\": \"12/02/1885\",\n",
    "\"nomeMae\": \"Msdaria Antonieta Oliveidfgdra\",\n",
    "\"nomePai\": \"Frandscisco Martelo Silvdfga\",\n",
    "\"rgs\": [\n",
    "{\n",
    "\"rg\": \"7412512123\",\n",
    "\"ufRg\": {\n",
    "\"id\": 3,\n",
    "\"nome\": \"AMAPA\",\n",
    "\"sigla\": \"AP\"\n",
    "}\n",
    "}\n",
    "],\n",
    "\"sexo\": {\n",
    "\"id\": 7,\n",
    "\"nome\": \"Masculino\"\n",
    "},\n",
    "\"obito\": \"N\",\n",
    "\"orcrims\": [\n",
    "{\n",
    "\"id\": 230,\n",
    "\"nome\": \"BONDE DO TERROR\",\n",
    "\"sigla\": \"BDT\"\n",
    "}\n",
    "],\n",
    "\"nacionalidade\": {\n",
    "\"id\": 76,\n",
    "\"nome\": \"Brasil\"\n",
    "},\n",
    "\"uf\": {\n",
    "\"id\": 27,\n",
    "\"nome\": \"DISTRITO FEDERAL\",\n",
    "\"sigla\": \"DF\"\n",
    "},\n",
    "\"municipio\": {\n",
    "\"id\": 530010801,\n",
    "\"nome\": \"Brasilia\"\n",
    "}\n",
    "}\n",
    "]\n",
    "}"
   ]
  },
  {
   "cell_type": "code",
   "execution_count": 1,
   "metadata": {},
   "outputs": [
    {
     "name": "stdout",
     "output_type": "stream",
     "text": [
      "The history saving thread hit an unexpected error (OperationalError('database or disk is full')).History will not be written to the database.\n"
     ]
    }
   ],
   "source": [
    "from API_orcrim.api_client import ApiClient\n",
    "\n",
    "pessoa1 = ApiClient()"
   ]
  },
  {
   "cell_type": "code",
   "execution_count": 5,
   "metadata": {},
   "outputs": [],
   "source": [
    "\n",
    "\n",
    "resposta = pessoa1.post_personalidade(corpo_json)"
   ]
  },
  {
   "cell_type": "code",
   "execution_count": 6,
   "metadata": {},
   "outputs": [
    {
     "data": {
      "text/plain": [
       "{'data': [{'nome': 'MENINO DA SIL1195165VA SDFSDF',\n",
       "   'alcunhas': [{'id': 44750,\n",
       "     'alcunha': 'MINSDFINSDFHO',\n",
       "     'dataAlcunha': '01/06/2024'}],\n",
       "   'dataNascimento': '24/05/1965',\n",
       "   'nomeMae': 'DINO DA SILDSA SILVA',\n",
       "   'nomePai': 'DINA DA SILVASD SILVA',\n",
       "   'sexo': {'id': 7, 'nome': 'Masculino'},\n",
       "   'obito': 'N',\n",
       "   'nacionalidade': {'id': 76, 'nome': 'Brasil'},\n",
       "   'uf': {'id': 27, 'nome': 'DF', 'sigla': 'DISTRITO FEDERAL'},\n",
       "   'municipio': {'id': 530010801, 'nome': 'Brasília'},\n",
       "   'dadosPessoaisOrcrim': [{'id': 35648,\n",
       "     'idOrcrim': 230,\n",
       "     'nomeOrcrim': 'BONDE DO TERROR',\n",
       "     'siglaOrcrim': 'BDT',\n",
       "     'dataInicio': None,\n",
       "     'dataTermino': None,\n",
       "     'dataInicioFormatoString': None,\n",
       "     'dataTerminoFormatoString': None}],\n",
       "   'documentos': [{'id': 61115,\n",
       "     'uf': {'id': 3, 'nome': 'AMAPÁ', 'sigla': 'AP'},\n",
       "     'numero': '232222',\n",
       "     'tipoDocumento': {'id': 14, 'descricao': 'RG'}},\n",
       "    {'id': 61116,\n",
       "     'numero': '91668347598',\n",
       "     'tipoDocumento': {'id': 9, 'descricao': 'CPF'}}],\n",
       "   'uuid': '80a7c8db-4dfd-4d49-934e-8ea3e06837b2'}]}"
      ]
     },
     "execution_count": 6,
     "metadata": {},
     "output_type": "execute_result"
    }
   ],
   "source": [
    "resposta"
   ]
  }
 ],
 "metadata": {
  "kernelspec": {
   "display_name": "Python 3",
   "language": "python",
   "name": "python3"
  },
  "language_info": {
   "codemirror_mode": {
    "name": "ipython",
    "version": 3
   },
   "file_extension": ".py",
   "mimetype": "text/x-python",
   "name": "python",
   "nbconvert_exporter": "python",
   "pygments_lexer": "ipython3",
   "version": "3.10.11"
  }
 },
 "nbformat": 4,
 "nbformat_minor": 2
}
