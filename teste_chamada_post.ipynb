{
 "cells": [
  {
   "cell_type": "code",
   "execution_count": 155,
   "metadata": {},
   "outputs": [],
   "source": [
    "from API_orcrim.token import TokenManager\n",
    "import requests"
   ]
  },
  {
   "cell_type": "code",
   "execution_count": 156,
   "metadata": {},
   "outputs": [],
   "source": [
    "meu_token = TokenManager()\n",
    "\n",
    "def post_pessoa(corpo):\n",
    "\n",
    "    url = 'https://hmlorcrim.mj.gov.br/backend-orcrim/api/v1/personalidade'\n",
    "    token_de_autorizacao = meu_token.get_access_token()\n",
    "    dados_json = corpo\n",
    "\n",
    "    # Preparação dos headers\n",
    "    headers = {\n",
    "        'accept': 'application/json',\n",
    "        'Authorization': f'Bearer {token_de_autorizacao}',\n",
    "        'Content-Type': 'application/json'\n",
    "    }\n",
    "\n",
    "    # Fazendo a chamada POST com requests\n",
    "    response = requests.post(url, headers=headers, json=dados_json)\n",
    "\n",
    "    print(response)\n",
    "    print(response.text)\n",
    "\n",
    "    return response"
   ]
  },
  {
   "cell_type": "code",
   "execution_count": 157,
   "metadata": {},
   "outputs": [],
   "source": [
    "corpo_json = {\n",
    "  \"data\": [\n",
    "    {\n",
    "      \"nome\": \"menino da silva sdfsdf\",\n",
    "      \"alcunhas\": [\n",
    "        {\n",
    "          \"alcunha\": \"minsdfinho\",\n",
    "          \"dataAlcunha\": \"01/03/2024\"\n",
    "        }\n",
    "      ],\n",
    "      \"cpfs\": [\n",
    "        \"89326352773\"\n",
    "      ],\n",
    "      \"dataNascimento\": \"24/03/1965\",\n",
    "      \"nomeMae\": \"Dino da silva silva\",\n",
    "      \"nomePai\": \"Dina da Silva silva\",\n",
    "      \"rgs\": [\n",
    "        {\n",
    "          \"rg\": \"15632222\",\n",
    "          \"ufRg\": {\n",
    "            \"id\": 3,\n",
    "            \"nome\": \"AMAPA\",\n",
    "            \"sigla\": \"AP\"\n",
    "          }\n",
    "        }\n",
    "      ],\n",
    "      \"sexo\": {\n",
    "        \"id\": 7,\n",
    "        \"nome\": \"Masculino\"\n",
    "      },\n",
    "      \"obito\": \"N\",\n",
    "      \"orcrims\": [\n",
    "        {\n",
    "          \"id\": 230,\n",
    "          \"nome\": \"BONDE DO TERROR\",\n",
    "          \"sigla\": \"BDT\"\n",
    "        }\n",
    "      ],\n",
    "      \"nacionalidade\": {\n",
    "        \"id\": 76,\n",
    "        \"nome\": \"Brasil\"\n",
    "      },\n",
    "      \"uf\": {\n",
    "        \"id\": 27,\n",
    "        \"nome\": \"DISTRITO FEDERAL\",\n",
    "        \"sigla\": \"DF\"\n",
    "      },\n",
    "      \"municipio\": {\n",
    "        \"id\": 530010801,\n",
    "        \"nome\": \"Brasilia\"\n",
    "      }\n",
    "    }\n",
    "  ]\n",
    "}"
   ]
  },
  {
   "cell_type": "code",
   "execution_count": 158,
   "metadata": {},
   "outputs": [],
   "source": [
    "\n",
    "corpo_json1 = {\n",
    "\"data\" : [\n",
    "    \n",
    "{\n",
    "\"nome\": \"Joouuuo Oliveira Silva\",\n",
    "\"alcunhas\": [\n",
    "{\n",
    "\"alcunha\": \"Josfdsino\",\n",
    "\"dataAlcunha\": \"10/02/2020\"\n",
    "}\n",
    "],\n",
    "\"cpfs\": [\n",
    "\"61978176678\"\n",
    "],\n",
    "\"dataNascimento\": \"12/02/1885\",\n",
    "\"nomeMae\": \"Msdaria Antonieta Oliveidfgdra\",\n",
    "\"nomePai\": \"Frandscisco Martelo Silvdfga\",\n",
    "\"rgs\": [\n",
    "{\n",
    "\"rg\": \"7412512123\",\n",
    "\"ufRg\": {\n",
    "\"id\": 3,\n",
    "\"nome\": \"AMAPA\",\n",
    "\"sigla\": \"AP\"\n",
    "}\n",
    "}\n",
    "],\n",
    "\"sexo\": {\n",
    "\"id\": 7,\n",
    "\"nome\": \"Masculino\"\n",
    "},\n",
    "\"obito\": \"N\",\n",
    "\"orcrims\": [\n",
    "{\n",
    "\"id\": 230,\n",
    "\"nome\": \"BONDE DO TERROR\",\n",
    "\"sigla\": \"BDT\"\n",
    "}\n",
    "],\n",
    "\"nacionalidade\": {\n",
    "\"id\": 76,\n",
    "\"nome\": \"Brasil\"\n",
    "},\n",
    "\"uf\": {\n",
    "\"id\": 27,\n",
    "\"nome\": \"DISTRITO FEDERAL\",\n",
    "\"sigla\": \"DF\"\n",
    "},\n",
    "\"municipio\": {\n",
    "\"id\": 530010801,\n",
    "\"nome\": \"Brasilia\"\n",
    "}\n",
    "}\n",
    "]\n",
    "}"
   ]
  },
  {
   "cell_type": "code",
   "execution_count": 159,
   "metadata": {},
   "outputs": [
    {
     "name": "stdout",
     "output_type": "stream",
     "text": [
      "<Response [200]>\n",
      "{\"data\":[{\"nome\":\"MENINO DA SILVA SDFSDF\",\"alcunhas\":[{\"id\":44709,\"alcunha\":\"MINSDFINHO\",\"dataAlcunha\":\"01/03/2024\"}],\"dataNascimento\":\"24/03/1965\",\"nomeMae\":\"DINO DA SILVA SILVA\",\"nomePai\":\"DINA DA SILVA SILVA\",\"sexo\":{\"id\":7,\"nome\":\"Masculino\"},\"obito\":\"N\",\"nacionalidade\":{\"id\":76,\"nome\":\"Brasil\"},\"uf\":{\"id\":27,\"nome\":\"DF\",\"sigla\":\"DISTRITO FEDERAL\"},\"municipio\":{\"id\":530010801,\"nome\":\"Brasília\"},\"dadosPessoaisOrcrim\":[{\"id\":35606,\"idOrcrim\":230,\"nomeOrcrim\":\"BONDE DO TERROR\",\"siglaOrcrim\":\"BDT\",\"dataInicio\":null,\"dataTermino\":null,\"dataInicioFormatoString\":null,\"dataTerminoFormatoString\":null}],\"documentos\":[{\"id\":61051,\"uf\":{\"id\":3,\"nome\":\"AMAPÁ\",\"sigla\":\"AP\"},\"numero\":\"15632222\",\"tipoDocumento\":{\"id\":14,\"descricao\":\"RG\"}},{\"id\":61052,\"numero\":\"89326352773\",\"tipoDocumento\":{\"id\":9,\"descricao\":\"CPF\"}}],\"uuid\":\"55631b3b-b385-492e-bce3-685875529782\"}]}\n"
     ]
    },
    {
     "data": {
      "text/plain": [
       "<Response [200]>"
      ]
     },
     "execution_count": 159,
     "metadata": {},
     "output_type": "execute_result"
    }
   ],
   "source": [
    "post_pessoa(corpo_json)"
   ]
  }
 ],
 "metadata": {
  "kernelspec": {
   "display_name": "Python 3",
   "language": "python",
   "name": "python3"
  },
  "language_info": {
   "codemirror_mode": {
    "name": "ipython",
    "version": 3
   },
   "file_extension": ".py",
   "mimetype": "text/x-python",
   "name": "python",
   "nbconvert_exporter": "python",
   "pygments_lexer": "ipython3",
   "version": "3.10.11"
  }
 },
 "nbformat": 4,
 "nbformat_minor": 2
}
